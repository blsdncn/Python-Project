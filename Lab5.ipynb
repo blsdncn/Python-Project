{
 "cells": [
  {
   "cell_type": "markdown",
   "metadata": {},
   "source": [
    "input subprocess & initialize input array\n"
   ]
  },
  {
   "cell_type": "code",
   "execution_count": 5,
   "metadata": {},
   "outputs": [],
   "source": [
    "import subprocess\n",
    "\n",
    "#input array\n",
    "input_array = [\"1\",\"2\",\"3\",\"4\",\"5\"]\n",
    "#input_array = [1,2,3,4,5]"
   ]
  },
  {
   "cell_type": "markdown",
   "metadata": {},
   "source": [
    "Run C Code"
   ]
  },
  {
   "cell_type": "code",
   "execution_count": 6,
   "metadata": {},
   "outputs": [
    {
     "name": "stdout",
     "output_type": "stream",
     "text": [
      "C program output:\n",
      "2 3 4 5 6\n"
     ]
    }
   ],
   "source": [
    "#Run C Code\n",
    "\n",
    "#compile the c program (assuming it's saved as CProg.c)\n",
    "subprocess.run([\"gcc\",\"CProg.c\",\"-o\",\"CProg\"])\n",
    "\n",
    "#RUn the compiled C program with the input array as args\n",
    "process = subprocess.run([\"./CProg\"]+input_array,capture_output = True, text = True)\n",
    "\n",
    "# store the output of the C program in a python variable\n",
    "output_variable = process.stdout.strip()\n",
    "\n",
    "#print or use the stored output\n",
    "print(\"C program output:\")\n",
    "print(output_variable)"
   ]
  },
  {
   "cell_type": "markdown",
   "metadata": {},
   "source": [
    "Run Haskell Code"
   ]
  },
  {
   "cell_type": "code",
   "execution_count": 7,
   "metadata": {},
   "outputs": [
    {
     "name": "stdout",
     "output_type": "stream",
     "text": [
      "0 1 2 3 4\n"
     ]
    }
   ],
   "source": [
    "subprocess.run(['ghc','C:\\\\Programming\\\\Python\\\\haskellcode.hs'])\n",
    "process = subprocess.run(['C:\\\\Programming\\\\Python\\\\haskellcode']+[str(x) for x in input_array], text = True, capture_output = True)\n",
    "result = process.stdout.strip()\n",
    "print(result)"
   ]
  },
  {
   "cell_type": "markdown",
   "metadata": {},
   "source": [
    "Run Prolog Code"
   ]
  },
  {
   "cell_type": "code",
   "execution_count": 8,
   "metadata": {},
   "outputs": [
    {
     "name": "stdout",
     "output_type": "stream",
     "text": [
      "[5,4,3,2,1]\n"
     ]
    }
   ],
   "source": [
    "prolog_input = \"[\" + \",\".join(map(str, input_array)) + \"].\"\n",
    "result = subprocess.run(\n",
    "    ['swipl', '-q', '-g', 'main', '-t', 'halt', 'PrologCode.pl'], \n",
    "    input=prolog_input, \n",
    "    capture_output=True, \n",
    "    text=True\n",
    ")\n",
    "output_result = result.stdout.strip()\n",
    "print(output_result)"
   ]
  }
 ],
 "metadata": {
  "kernelspec": {
   "display_name": "Python 3",
   "language": "python",
   "name": "python3"
  },
  "language_info": {
   "codemirror_mode": {
    "name": "ipython",
    "version": 3
   },
   "file_extension": ".py",
   "mimetype": "text/x-python",
   "name": "python",
   "nbconvert_exporter": "python",
   "pygments_lexer": "ipython3",
   "version": "3.10.11"
  }
 },
 "nbformat": 4,
 "nbformat_minor": 2
}
